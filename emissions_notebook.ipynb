{
 "cells": [
  {
   "cell_type": "code",
   "execution_count": 19,
   "id": "c9acfb6c",
   "metadata": {},
   "outputs": [],
   "source": [
    "import pandas\n",
    "import numpy as np\n",
    "import pyproj\n",
    "import math"
   ]
  },
  {
   "cell_type": "code",
   "execution_count": 65,
   "id": "54ce26d4",
   "metadata": {},
   "outputs": [
    {
     "data": {
      "text/html": [
       "<div>\n",
       "<style scoped>\n",
       "    .dataframe tbody tr th:only-of-type {\n",
       "        vertical-align: middle;\n",
       "    }\n",
       "\n",
       "    .dataframe tbody tr th {\n",
       "        vertical-align: top;\n",
       "    }\n",
       "\n",
       "    .dataframe thead th {\n",
       "        text-align: right;\n",
       "    }\n",
       "</style>\n",
       "<table border=\"1\" class=\"dataframe\">\n",
       "  <thead>\n",
       "    <tr style=\"text-align: right;\">\n",
       "      <th></th>\n",
       "      <th>id</th>\n",
       "      <th>NOx</th>\n",
       "      <th>electricity</th>\n",
       "      <th>type</th>\n",
       "      <th>x</th>\n",
       "      <th>y</th>\n",
       "      <th>time</th>\n",
       "    </tr>\n",
       "  </thead>\n",
       "  <tbody>\n",
       "    <tr>\n",
       "      <th>0</th>\n",
       "      <td>truck0</td>\n",
       "      <td>38.95</td>\n",
       "      <td>0.00</td>\n",
       "      <td>truck_petrol</td>\n",
       "      <td>55.708206</td>\n",
       "      <td>12.572871</td>\n",
       "      <td>0.0</td>\n",
       "    </tr>\n",
       "    <tr>\n",
       "      <th>1</th>\n",
       "      <td>veh0</td>\n",
       "      <td>0.00</td>\n",
       "      <td>1.03</td>\n",
       "      <td>veh_hybrid</td>\n",
       "      <td>55.693703</td>\n",
       "      <td>12.576520</td>\n",
       "      <td>0.0</td>\n",
       "    </tr>\n",
       "    <tr>\n",
       "      <th>2</th>\n",
       "      <td>truck0</td>\n",
       "      <td>41.67</td>\n",
       "      <td>0.00</td>\n",
       "      <td>truck_petrol</td>\n",
       "      <td>55.708209</td>\n",
       "      <td>12.572886</td>\n",
       "      <td>1.0</td>\n",
       "    </tr>\n",
       "    <tr>\n",
       "      <th>3</th>\n",
       "      <td>veh0</td>\n",
       "      <td>0.00</td>\n",
       "      <td>0.00</td>\n",
       "      <td>veh_hybrid</td>\n",
       "      <td>55.693773</td>\n",
       "      <td>12.576334</td>\n",
       "      <td>1.0</td>\n",
       "    </tr>\n",
       "    <tr>\n",
       "      <th>4</th>\n",
       "      <td>truck0</td>\n",
       "      <td>42.54</td>\n",
       "      <td>0.00</td>\n",
       "      <td>truck_petrol</td>\n",
       "      <td>55.708214</td>\n",
       "      <td>12.572912</td>\n",
       "      <td>2.0</td>\n",
       "    </tr>\n",
       "  </tbody>\n",
       "</table>\n",
       "</div>"
      ],
      "text/plain": [
       "       id    NOx  electricity          type          x          y  time\n",
       "0  truck0  38.95         0.00  truck_petrol  55.708206  12.572871   0.0\n",
       "1    veh0   0.00         1.03    veh_hybrid  55.693703  12.576520   0.0\n",
       "2  truck0  41.67         0.00  truck_petrol  55.708209  12.572886   1.0\n",
       "3    veh0   0.00         0.00    veh_hybrid  55.693773  12.576334   1.0\n",
       "4  truck0  42.54         0.00  truck_petrol  55.708214  12.572912   2.0"
      ]
     },
     "execution_count": 65,
     "metadata": {},
     "output_type": "execute_result"
    }
   ],
   "source": [
    "df = pandas.read_parquet(\"./emission_corrected.parquet\")\n",
    "df.head()\n",
    "\n",
    "# NOTE\n",
    "# x and y are swapped in the file\n",
    "# y is latitude (hence x)"
   ]
  },
  {
   "cell_type": "code",
   "execution_count": 70,
   "id": "d57e410f",
   "metadata": {},
   "outputs": [
    {
     "data": {
      "text/plain": [
       "array(['truck_petrol', 'veh_hybrid', 'veh_diesel', 'veh_ev',\n",
       "       'truck_hybrid', 'veh_petrol'], dtype=object)"
      ]
     },
     "execution_count": 70,
     "metadata": {},
     "output_type": "execute_result"
    }
   ],
   "source": [
    "df['type'].unique()"
   ]
  },
  {
   "cell_type": "code",
   "execution_count": 63,
   "id": "b572c6c9",
   "metadata": {},
   "outputs": [
    {
     "name": "stdout",
     "output_type": "stream",
     "text": [
      "Fixing coordinates swapped\n",
      "Done\n"
     ]
    }
   ],
   "source": [
    "print(\"Fixing coordinates swapped\")\n",
    "for i, vehicle in df.iterrows():\n",
    "    tmp = df.at[i, 'x']\n",
    "    df.at[i, 'x'] = df.at[i, 'y']\n",
    "    df.at[i, 'y'] = tmp\n",
    "print(\"Done\")\n",
    "df.to_parquet('./emission_corrected.parquet')"
   ]
  },
  {
   "cell_type": "code",
   "execution_count": 40,
   "id": "aec96455",
   "metadata": {},
   "outputs": [
    {
     "name": "stdout",
     "output_type": "stream",
     "text": [
      "4021.0\n"
     ]
    }
   ],
   "source": [
    "timeSteps = np.max(df['time'].unique())\n",
    "print(timeSteps)"
   ]
  },
  {
   "cell_type": "code",
   "execution_count": 24,
   "id": "125b2fe0",
   "metadata": {},
   "outputs": [],
   "source": [
    "def coordinate_deg_to_meters(lon, lat):\n",
    "    y = lat * 111320.0 #1 degree = 111.32km\n",
    "    x = lon * 40075000.0 * math.cos(lat * math.pi / 180.0) / (2 * math.pi)\n",
    "    return (x, y)"
   ]
  },
  {
   "cell_type": "code",
   "execution_count": 30,
   "id": "907e7380",
   "metadata": {},
   "outputs": [
    {
     "name": "stdout",
     "output_type": "stream",
     "text": [
      "<pandas.core.indexing._LocIndexer object at 0x13e4d9490>\n",
      "(45180488.46643454, 6201437.49192)\n"
     ]
    }
   ],
   "source": [
    "firstVehicle = df[df['time'] == 0].loc[0]\n",
    "print(df.loc)\n",
    "print(coordinate_deg_to_meters(firstVehicle.x, firstVehicle.y))"
   ]
  },
  {
   "cell_type": "code",
   "execution_count": 35,
   "id": "e633b3bb",
   "metadata": {},
   "outputs": [
    {
     "name": "stdout",
     "output_type": "stream",
     "text": [
      "Converting coordinates from degrees to meters...\n",
      "Done\n"
     ]
    }
   ],
   "source": [
    "print(\"Converting coordinates from degrees to meters...\")\n",
    "for i, vehicle in df.iterrows():\n",
    "    x, y = coordinate_deg_to_meters(vehicle.x, vehicle.y)\n",
    "    df.at[i, 'x'] = x\n",
    "    df.at[i, 'y'] = y\n",
    "print(\"Done\")"
   ]
  },
  {
   "cell_type": "code",
   "execution_count": 66,
   "id": "ed0034d3",
   "metadata": {},
   "outputs": [
    {
     "name": "stdout",
     "output_type": "stream",
     "text": [
      "           id    NOx  electricity          type          x          y   time\n",
      "0      truck0  38.95          0.0  truck_petrol  55.708206  12.572871    0.0\n",
      "2      truck0  41.67          0.0  truck_petrol  55.708209  12.572886    1.0\n",
      "4      truck0  42.54          0.0  truck_petrol  55.708214  12.572912    2.0\n",
      "6      truck0  48.50          0.0  truck_petrol  55.708223  12.572956    3.0\n",
      "9      truck0  49.86          0.0  truck_petrol  55.708234  12.573015    4.0\n",
      "...       ...    ...          ...           ...        ...        ...    ...\n",
      "17880  truck0  41.47          0.0  truck_petrol  55.713082  12.579873  236.0\n",
      "18016  truck0  41.76          0.0  truck_petrol  55.713079  12.579791  237.0\n",
      "18152  truck0  46.58          0.0  truck_petrol  55.713078  12.579703  238.0\n",
      "18287  truck0  40.61          0.0  truck_petrol  55.713076  12.579616  239.0\n",
      "18423  truck0   0.00          0.0  truck_petrol  55.713075  12.579533  240.0\n",
      "\n",
      "[241 rows x 7 columns]\n"
     ]
    }
   ],
   "source": [
    "#df.head()\n",
    "print(df[df['id'] == 'truck0'])"
   ]
  },
  {
   "cell_type": "code",
   "execution_count": 69,
   "id": "f8f1ea5f",
   "metadata": {},
   "outputs": [
    {
     "name": "stdout",
     "output_type": "stream",
     "text": [
      "0.0\n",
      "81.88180671788642\n",
      "432.8734380373308\n",
      "286.40605296341533\n"
     ]
    }
   ],
   "source": [
    "# Projection\n",
    "min_x = df['x'].min()\n",
    "max_x = df['x'].max()\n",
    "min_y = df['y'].min()\n",
    "max_y = df['y'].max()\n",
    "resolution = max(max_x - min_x, max_y - min_y)\n",
    "mapWidth = 40\n",
    "mapHeight = 40\n",
    "cellSize = 17\n",
    "padding_top = (1.0 - ((max_y - min_y) / resolution)) * mapHeight * cellSize / 2\n",
    "padding_left = (1.0 - ((max_x - min_x) / resolution)) * mapWidth * cellSize / 2\n",
    "print(padding_top)\n",
    "print(padding_left)\n",
    "\n",
    "# Mapping first vehicle\n",
    "print(padding_left + ((df.loc[0].x - min_x) / resolution)* mapWidth * cellSize)\n",
    "print(padding_top + ((df.loc[0].y - min_y) / resolution) * mapHeight * cellSize)"
   ]
  },
  {
   "cell_type": "code",
   "execution_count": null,
   "id": "cdbe02ff",
   "metadata": {},
   "outputs": [],
   "source": []
  }
 ],
 "metadata": {
  "kernelspec": {
   "display_name": "Python 3 (ipykernel)",
   "language": "python",
   "name": "python3"
  },
  "language_info": {
   "codemirror_mode": {
    "name": "ipython",
    "version": 3
   },
   "file_extension": ".py",
   "mimetype": "text/x-python",
   "name": "python",
   "nbconvert_exporter": "python",
   "pygments_lexer": "ipython3",
   "version": "3.10.8"
  }
 },
 "nbformat": 4,
 "nbformat_minor": 5
}
