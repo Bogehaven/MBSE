{
 "cells": [
  {
   "cell_type": "code",
   "execution_count": 2,
   "id": "bd19b700-f1f6-4625-a576-0a5835119ef5",
   "metadata": {},
   "outputs": [],
   "source": [
    "pet = 1676062\n",
    "dis = 794888\n",
    "tot = pet + dis"
   ]
  },
  {
   "cell_type": "code",
   "execution_count": 10,
   "id": "ee926c47-a9ec-43d3-8533-68a9a5e4f8ab",
   "metadata": {},
   "outputs": [
    {
     "data": {
      "text/plain": [
       "0.6783067241344423"
      ]
     },
     "execution_count": 10,
     "metadata": {},
     "output_type": "execute_result"
    }
   ],
   "source": [
    "(pet/tot)"
   ]
  },
  {
   "cell_type": "code",
   "execution_count": 11,
   "id": "f73cf927-c711-4e2b-9379-483b5c1c5865",
   "metadata": {},
   "outputs": [
    {
     "data": {
      "text/plain": [
       "0.3216932758655578"
      ]
     },
     "execution_count": 11,
     "metadata": {},
     "output_type": "execute_result"
    }
   ],
   "source": [
    "(dis/tot)"
   ]
  },
  {
   "cell_type": "code",
   "execution_count": 8,
   "id": "00dc1db9-ca6d-4852-bfee-22bf0e9890d8",
   "metadata": {},
   "outputs": [
    {
     "data": {
      "text/plain": [
       "0.6649999999999999"
      ]
     },
     "execution_count": 8,
     "metadata": {},
     "output_type": "execute_result"
    }
   ],
   "source": [
    "0.7-0.035"
   ]
  },
  {
   "cell_type": "code",
   "execution_count": 9,
   "id": "88ee76f4-0a27-4f11-aef8-947199276bfd",
   "metadata": {},
   "outputs": [
    {
     "data": {
      "text/plain": [
       "0.265"
      ]
     },
     "execution_count": 9,
     "metadata": {},
     "output_type": "execute_result"
    }
   ],
   "source": [
    "0.3-0.035"
   ]
  },
  {
   "cell_type": "code",
   "execution_count": null,
   "id": "ec4e6658-7f4f-4968-aa4e-2853d77c9c4a",
   "metadata": {},
   "outputs": [],
   "source": []
  }
 ],
 "metadata": {
  "kernelspec": {
   "display_name": "Python 3 (ipykernel)",
   "language": "python",
   "name": "python3"
  },
  "language_info": {
   "codemirror_mode": {
    "name": "ipython",
    "version": 3
   },
   "file_extension": ".py",
   "mimetype": "text/x-python",
   "name": "python",
   "nbconvert_exporter": "python",
   "pygments_lexer": "ipython3",
   "version": "3.9.12"
  }
 },
 "nbformat": 4,
 "nbformat_minor": 5
}
