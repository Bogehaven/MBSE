{
 "cells": [
  {
   "cell_type": "code",
   "execution_count": 30,
   "id": "9a119082-0781-4c8e-b47b-cb3abce198c6",
   "metadata": {},
   "outputs": [],
   "source": [
    "from bs4 import BeautifulSoup\n",
    "import random\n",
    "import sys\n",
    "import json\n",
    "import math \n",
    "\n",
    "filename = \"Osterbro/osm.net.xml\"\n",
    "\n",
    "with open(filename, 'r') as f:\n",
    "    data = f.read()\n",
    "bs_data = BeautifulSoup(data, 'xml')\n",
    "\n",
    "sumo_meta = {}\n",
    "\n",
    "for tag in bs_data.find_all('location'):\n",
    "    sumo_meta[\"convBoundary\"] = tag[\"convBoundary\"].split(\",\")\n",
    "    sumo_meta[\"netOffset\"] = tag[\"netOffset\"].split(\",\")\n",
    "    sumo_meta[\"origBoundary\"] = tag[\"origBoundary\"].split(\",\")"
   ]
  },
  {
   "cell_type": "code",
   "execution_count": 6,
   "id": "681712f8-946c-4f05-9a60-074097d6ac39",
   "metadata": {},
   "outputs": [],
   "source": [
    "filename = \"Osterbro/osm.net.xml\"\n",
    "\n",
    "with open(filename, 'r') as f:\n",
    "    data = f.read()\n",
    "bs_data = BeautifulSoup(data, 'xml')\n",
    "\n",
    "sumo_meta = {}\n",
    "\n",
    "for tag in bs_data.find_all('location'):\n",
    "    sumo_meta[\"convBoundary\"] = tag[\"convBoundary\"].split(\",\")\n",
    "    sumo_meta[\"netOffset\"] = tag[\"netOffset\"].split(\",\")\n",
    "    sumo_meta[\"origBoundary\"] = tag[\"origBoundary\"].split(\",\")"
   ]
  },
  {
   "cell_type": "code",
   "execution_count": 53,
   "id": "fa91e866-9e82-4ba4-bb32-cc210d4d2d03",
   "metadata": {},
   "outputs": [],
   "source": [
    "def create_grid(sumo_meta, size):\n",
    "    x1, y1, x2, y2 = sumo_meta['convBoundary']\n",
    "    x2 = math.floor(float(x2)/size)*size\n",
    "    y2 = math.floor(float(y2)/size)*size\n",
    "    \n",
    "    y_range = [i for i in range(0,y2+1,100)]\n",
    "    x_range = [i for i in range(0,x2+1,100)]\n",
    "    \n",
    "    \n",
    "    return x2, y2"
   ]
  },
  {
   "cell_type": "code",
   "execution_count": 54,
   "id": "5f961700-0307-45c9-996b-3071e5692f06",
   "metadata": {},
   "outputs": [
    {
     "data": {
      "text/plain": [
       "(2200, 2900)"
      ]
     },
     "execution_count": 54,
     "metadata": {},
     "output_type": "execute_result"
    }
   ],
   "source": [
    "create_grid(sumo_meta, 100)"
   ]
  },
  {
   "cell_type": "code",
   "execution_count": 41,
   "id": "bc8dce2b-55d9-449f-a635-49c112c2f996",
   "metadata": {},
   "outputs": [
    {
     "data": {
      "text/plain": [
       "2950"
      ]
     },
     "execution_count": 41,
     "metadata": {},
     "output_type": "execute_result"
    }
   ],
   "source": [
    "y2"
   ]
  },
  {
   "cell_type": "code",
   "execution_count": 56,
   "id": "8ec7ede8-b467-46cd-b695-95aa5cceeb4d",
   "metadata": {},
   "outputs": [],
   "source": [
    "x1, y1, x2, y2 = sumo_meta['convBoundary']\n",
    "y2\n",
    "y2 = math.floor(float(y2) / 100) * 100"
   ]
  },
  {
   "cell_type": "code",
   "execution_count": 61,
   "id": "6771d285-094e-4770-b937-6d8839a66a59",
   "metadata": {},
   "outputs": [
    {
     "data": {
      "text/plain": [
       "[0,\n",
       " 100,\n",
       " 200,\n",
       " 300,\n",
       " 400,\n",
       " 500,\n",
       " 600,\n",
       " 700,\n",
       " 800,\n",
       " 900,\n",
       " 1000,\n",
       " 1100,\n",
       " 1200,\n",
       " 1300,\n",
       " 1400,\n",
       " 1500,\n",
       " 1600,\n",
       " 1700,\n",
       " 1800,\n",
       " 1900,\n",
       " 2000,\n",
       " 2100,\n",
       " 2200,\n",
       " 2300,\n",
       " 2400,\n",
       " 2500,\n",
       " 2600,\n",
       " 2700,\n",
       " 2800,\n",
       " 2900]"
      ]
     },
     "execution_count": 61,
     "metadata": {},
     "output_type": "execute_result"
    }
   ],
   "source": []
  },
  {
   "cell_type": "code",
   "execution_count": null,
   "id": "0bc4aa82-d38c-4107-9561-50998102dc4b",
   "metadata": {},
   "outputs": [],
   "source": []
  }
 ],
 "metadata": {
  "kernelspec": {
   "display_name": "Python 3 (ipykernel)",
   "language": "python",
   "name": "python3"
  },
  "language_info": {
   "codemirror_mode": {
    "name": "ipython",
    "version": 3
   },
   "file_extension": ".py",
   "mimetype": "text/x-python",
   "name": "python",
   "nbconvert_exporter": "python",
   "pygments_lexer": "ipython3",
   "version": "3.9.12"
  }
 },
 "nbformat": 4,
 "nbformat_minor": 5
}
